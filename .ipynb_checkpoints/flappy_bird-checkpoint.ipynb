{
 "cells": [
  {
   "cell_type": "markdown",
   "metadata": {},
   "source": [
    "## Setup"
   ]
  },
  {
   "cell_type": "code",
   "execution_count": 1,
   "metadata": {},
   "outputs": [
    {
     "name": "stdout",
     "output_type": "stream",
     "text": [
      "Requirement already satisfied: pygame in ./venv/lib/python3.9/site-packages (2.1.0)\r\n"
     ]
    }
   ],
   "source": [
    "# !python3 -m venv venv\n",
    "# !source venv/bin/activate\n",
    "!pip install pygame"
   ]
  },
  {
   "cell_type": "markdown",
   "metadata": {},
   "source": [
    "Importing libraries"
   ]
  },
  {
   "cell_type": "code",
   "execution_count": 3,
   "metadata": {},
   "outputs": [
    {
     "ename": "ModuleNotFoundError",
     "evalue": "No module named 'pygame'",
     "output_type": "error",
     "traceback": [
      "\u001b[0;31m---------------------------------------------------------------------------\u001b[0m",
      "\u001b[0;31mModuleNotFoundError\u001b[0m                       Traceback (most recent call last)",
      "\u001b[0;32m/var/folders/4y/ycm3lbvn1gl9vqzq9_0psjf80000gn/T/ipykernel_7089/2238556841.py\u001b[0m in \u001b[0;36m<module>\u001b[0;34m\u001b[0m\n\u001b[0;32m----> 1\u001b[0;31m \u001b[0;32mimport\u001b[0m \u001b[0mpygame\u001b[0m\u001b[0;34m\u001b[0m\u001b[0;34m\u001b[0m\u001b[0m\n\u001b[0m\u001b[1;32m      2\u001b[0m \u001b[0;31m# import neat\u001b[0m\u001b[0;34m\u001b[0m\u001b[0;34m\u001b[0m\u001b[0m\n\u001b[1;32m      3\u001b[0m \u001b[0;32mimport\u001b[0m \u001b[0mtime\u001b[0m\u001b[0;34m\u001b[0m\u001b[0;34m\u001b[0m\u001b[0m\n\u001b[1;32m      4\u001b[0m \u001b[0;32mimport\u001b[0m \u001b[0mos\u001b[0m\u001b[0;34m\u001b[0m\u001b[0;34m\u001b[0m\u001b[0m\n\u001b[1;32m      5\u001b[0m \u001b[0;32mimport\u001b[0m \u001b[0mrandom\u001b[0m\u001b[0;34m\u001b[0m\u001b[0;34m\u001b[0m\u001b[0m\n",
      "\u001b[0;31mModuleNotFoundError\u001b[0m: No module named 'pygame'"
     ]
    }
   ],
   "source": [
    "\n",
    "import pygame\n",
    "# import neat\n",
    "import time\n",
    "import os\n",
    "import random"
   ]
  },
  {
   "cell_type": "markdown",
   "metadata": {},
   "source": [
    "Defining the display window"
   ]
  },
  {
   "cell_type": "code",
   "execution_count": 2,
   "metadata": {},
   "outputs": [],
   "source": [
    "WIN_WIDTH, WIN_HEIGHT = 500, 800\n",
    "win = pygame.display.set_mode((WIN_WIDTH, WIN_HEIGHT))\n",
    "pygame.display.set_caption(\"Flappy Bird\")"
   ]
  },
  {
   "cell_type": "markdown",
   "metadata": {},
   "source": [
    "Getting and defining all surfaces (texts/images) as constants"
   ]
  },
  {
   "cell_type": "code",
   "execution_count": 3,
   "metadata": {},
   "outputs": [],
   "source": [
    "BIRD_IMGS = [pygame.transform.scale2x(pygame.image.load(os.path.join(\"imgs\", \"bird1.png\"))), \n",
    "                pygame.transform.scale2x(pygame.image.load(os.path.join(\"imgs\", \"bird2.png\"))),\n",
    "                pygame.transform.scale2x(pygame.image.load(os.path.join(\"imgs\", \"bird3.png\")))]\n",
    "\n",
    "PIPE_IMG = pygame.transform.scale2x(pygame.image.load(os.path.join(\"imgs\", \"pipe.png\")))\n",
    "BASE_IMG = pygame.transform.scale2x(pygame.image.load(os.path.join(\"imgs\", \"base.png\")))\n",
    "BG_IMG = pygame.transform.scale2x(pygame.image.load(os.path.join(\"imgs\", \"bg.png\")))\n",
    "\n",
    "#frame rate for the game i.e. the #times the display will be refreshed in one second\n",
    "FPS = 30"
   ]
  },
  {
   "cell_type": "markdown",
   "metadata": {},
   "source": [
    "Making classes to represent each entity and define their behaviour in the game"
   ]
  },
  {
   "cell_type": "markdown",
   "metadata": {},
   "source": [
    "### Bird class"
   ]
  },
  {
   "cell_type": "code",
   "execution_count": 4,
   "metadata": {},
   "outputs": [],
   "source": [
    "\n",
    "class Bird:\n",
    "    IMGS = BIRD_IMGS\n",
    "    MAX_ROTATION = 25       #range upto which the player can tilt the bird\n",
    "    ROT_VEL = 20            #rotation allowed per frame/move\n",
    "    ANIMATION_TIME = 5      #time for which each animation will hold i.e. the rate at which the bird all flap its wings\n",
    "\n",
    "\n",
    "    def __init__(self, x, y):\n",
    "        #starting coordinates for the bird\n",
    "        self.x = x\n",
    "        self.y = y\n",
    "        #starting orientation of the bird\n",
    "        self.tilt = 0               #the bird looks straight towards the right\n",
    "        self.tick_count = 0         #tracks the no. of seconds elapsed since the last move. \n",
    "                                    #will be used for physics calc for the bird\n",
    "        self.vel = 0                #bird is stationary\n",
    "        self.height = self.y\n",
    "        self.img_count = 0          #image currently being rendered\n",
    "        self.img = self.IMGS[0]     \n",
    "\n",
    "    def jump(self):\n",
    "        self.vel = -10.5            #pygame takes the upper-left corner of the diaplay as (0,0)\n",
    "                                    #going left increases x, while going down increases y\n",
    "                                    #therefore, to go up, negative value is required\n",
    "        \n",
    "        self.tick_count = 0         #keeps track of when the last jump occured\n",
    "        self.height = self.y        #height from which the jump was made\n",
    "\n",
    "\n",
    "    #method to define the movement of the bird.\n",
    "    #flappy bird only moves up and down\n",
    "    def move(self):\n",
    "        self.tick_count += 1        #tracks the no. of moves made since the last jump\n",
    "\n",
    "        #formula defining the arc for the bird when it jumps\n",
    "        #displacement disp is in pixels\n",
    "        disp = self.vel*self.tick_count + 1.5*self.tick_count**2\n",
    "\n",
    "        #setting a limit to the velocity when going downwards and upwards\n",
    "        if disp > 16:\n",
    "            disp = 16\n",
    "        if disp < 0:\n",
    "            disp -= 2\n",
    "\n",
    "        self.y = self.y+disp\n",
    "\n",
    "        if disp < 0 or self.y < self.height + 50:\n",
    "            if self.tilt < self.MAX_ROTATION:\n",
    "                self.tilt = self.MAX_ROTATION   #while the bird is going up, we don't want it to climb up 90 deg\n",
    "        else:\n",
    "            if self.tilt > -90:                 #but while going down, it may look like nose-diving\n",
    "                self.tilt -= self.ROT_VEL\n",
    "\n",
    "    def draw(self, win):\n",
    "        self.img_count += 1\n",
    "\n",
    "        #decides on which image to show based on the image_count \n",
    "        if self.img_count < self.ANIMATION_TIME:\n",
    "            self.img = self.IMGS[0]       \n",
    "        elif self.img_count < self.ANIMATION_TIME*2:\n",
    "            self.img = self.IMGS[1]\n",
    "        elif self.img_count < self.ANIMATION_TIME*3:\n",
    "            self.img = self.IMGS[2]\n",
    "        elif self.img_count < self.ANIMATION_TIME*4:\n",
    "            self.img = self.IMGS[1]\n",
    "        elif self.img_count < self.ANIMATION_TIME*4 + 1:\n",
    "            self.img = self.IMGS[0]\n",
    "            self.img_count = 0\n",
    "\n",
    "        if self.tilt <= -80:\n",
    "            self.img = self.IMGS[1]\n",
    "            self.img_count = self.ANIMATION_TIME*2\n",
    "\n",
    "\n",
    "        #to rotate the image around its center\n",
    "        rotated_image = pygame.transform.rotate(self.img, self.tilt)\n",
    "        new_rect = rotated_image.get_rect(center=self.img.get_rect(topleft=(self.x,self.y)).center)\n",
    "        win.blit(rotated_image, new_rect.topleft)\n",
    "\n",
    "\n",
    "    #function handling collisions with objects\n",
    "    def get_mask(self):\n",
    "        return pygame.mask.from_surface(self.img)\n",
    "\n",
    "        "
   ]
  },
  {
   "cell_type": "markdown",
   "metadata": {},
   "source": [
    "### Pipe class"
   ]
  },
  {
   "cell_type": "code",
   "execution_count": null,
   "metadata": {},
   "outputs": [],
   "source": [
    "class Pipe:\n",
    "    GAP = 200   #pixels in between two pipes\n",
    "    VEL = 5\n",
    "\n",
    "    def __init__(self, x):\n",
    "        self.x = x\n",
    "        self.height = 0\n",
    "        \n",
    "\n",
    "        self.top = 0\n",
    "        self.bottom = 0\n",
    "        self.PIPE_TOP = pygame.transform.flip(PIPE_IMG, False, True)\n",
    "        self.PIPE_BOTTOM = PIPE_IMG\n",
    "\n",
    "        self.passed = False\n",
    "        self.set_height()\n",
    "\n",
    "    #sets the height for the pipe\n",
    "    def set_height(self):\n",
    "        self.height = random.randrange(50,450)\n",
    "        self.top = self.height-self.PIPE_TOP.get_height()   #to get the x-coordinate from the height, as per the pygame coordinate\n",
    "        self.bottom =self.height + self.GAP\n",
    "\n",
    "    #method to define the movement of the pipes accross the screen\n",
    "    #the pipes move only from right to left so as to make an illusion of the bird moving forward\n",
    "    def  move(self):\n",
    "        self.x -= self.VEL\n",
    "\n",
    "    def draw(self, win):\n",
    "        win.blit(self.PIPE_TOP, (self.x, self.top))\n",
    "        win.blit(self.PIPE_BOTTOM, (self.x, self.bottom))\n",
    "    "
   ]
  },
  {
   "cell_type": "markdown",
   "metadata": {},
   "source": [
    "Function to redraw the window for every iteration og the game loop"
   ]
  },
  {
   "cell_type": "code",
   "execution_count": 5,
   "metadata": {},
   "outputs": [],
   "source": [
    "#function to render the display window\n",
    "\n",
    "def draw_window(win, bird):\n",
    "    win.blit(BG_IMG, (0,0))     #blit() just renders the provided surface onto the display\n",
    "    bird.draw(win)\n",
    "    pygame.display.update()"
   ]
  },
  {
   "cell_type": "code",
   "execution_count": 6,
   "metadata": {},
   "outputs": [],
   "source": [
    "def main():\n",
    "    bird = Bird(200, 200)\n",
    "    \n",
    "\n",
    "    #use clock object to set the tick rate i.e no. of frames per sec\n",
    "    #prevents the game from using the system's speed and use this measure of time instead\n",
    "    \n",
    "    clock = pygame.time.Clock()\n",
    "\n",
    "    run = True\n",
    "    #the game loop for the pygame\n",
    "    while run:\n",
    "        clock.tick(FPS)      \n",
    "        for event in pygame.event.get():\n",
    "            if event.type == pygame.QUIT:\n",
    "                run = False\n",
    "        \n",
    "        bird.move()\n",
    "        draw_window(win, bird)\n",
    "\n",
    "    pygame.quit()\n",
    "    quit()\n"
   ]
  },
  {
   "cell_type": "code",
   "execution_count": 7,
   "metadata": {},
   "outputs": [],
   "source": [
    "if __name__ == \"__main__\":\n",
    "    main()"
   ]
  },
  {
   "cell_type": "code",
   "execution_count": null,
   "metadata": {},
   "outputs": [],
   "source": []
  }
 ],
 "metadata": {
  "interpreter": {
   "hash": "052a824504f1001ace61cb755d6798c9ff986f56de5e3014c813c68279bfdcd9"
  },
  "kernelspec": {
   "display_name": "Python 3 (ipykernel)",
   "language": "python",
   "name": "python3"
  },
  "language_info": {
   "codemirror_mode": {
    "name": "ipython",
    "version": 3
   },
   "file_extension": ".py",
   "mimetype": "text/x-python",
   "name": "python",
   "nbconvert_exporter": "python",
   "pygments_lexer": "ipython3",
   "version": "3.9.9"
  }
 },
 "nbformat": 4,
 "nbformat_minor": 2
}
