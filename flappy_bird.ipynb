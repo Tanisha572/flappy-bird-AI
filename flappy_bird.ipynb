{
 "cells": [
  {
   "cell_type": "markdown",
   "metadata": {},
   "source": [
    "Importing libraries"
   ]
  },
  {
   "cell_type": "code",
   "execution_count": 1,
   "metadata": {},
   "outputs": [
    {
     "name": "stdout",
     "output_type": "stream",
     "text": [
      "pygame 2.1.0 (SDL 2.0.16, Python 3.9.9)\n",
      "Hello from the pygame community. https://www.pygame.org/contribute.html\n"
     ]
    }
   ],
   "source": [
    "import pygame\n",
    "import neat\n",
    "import time\n",
    "import os\n",
    "import random"
   ]
  },
  {
   "cell_type": "markdown",
   "metadata": {},
   "source": [
    "Defining the display window"
   ]
  },
  {
   "cell_type": "code",
   "execution_count": 2,
   "metadata": {},
   "outputs": [],
   "source": [
    "WIN_WIDTH, WIN_HEIGHT = 500, 800\n",
    "win = pygame.display.set_mode((WIN_WIDTH, WIN_HEIGHT))\n",
    "pygame.display.set_caption(\"Flappy Bird\")"
   ]
  },
  {
   "cell_type": "markdown",
   "metadata": {},
   "source": [
    "Getting and defining all surfaces (texts/images) as constants"
   ]
  },
  {
   "cell_type": "code",
   "execution_count": 3,
   "metadata": {},
   "outputs": [],
   "source": [
    "BIRD_IMGS = [pygame.transform.scale2x(pygame.image.load(os.path.join(\"imgs\", \"bird1.png\"))), \n",
    "                pygame.transform.scale2x(pygame.image.load(os.path.join(\"imgs\", \"bird2.png\"))),\n",
    "                pygame.transform.scale2x(pygame.image.load(os.path.join(\"imgs\", \"bird3.png\")))]\n",
    "\n",
    "PIPE_IMG = pygame.transform.scale2x(pygame.image.load(os.path.join(\"imgs\", \"pipe.png\")))\n",
    "BASE_IMG = pygame.transform.scale2x(pygame.image.load(os.path.join(\"imgs\", \"base.png\")))\n",
    "BG_IMG = pygame.transform.scale2x(pygame.image.load(os.path.join(\"imgs\", \"bg.png\")))\n",
    "\n",
    "#frame rate for the game i.e. the #times the display will be refreshed in one second\n",
    "FPS = 30"
   ]
  },
  {
   "cell_type": "markdown",
   "metadata": {},
   "source": [
    "Making classes to represent each entity and define their behaviour in the game"
   ]
  },
  {
   "cell_type": "code",
   "execution_count": 4,
   "metadata": {},
   "outputs": [],
   "source": [
    "#class for the bird \n",
    "class Bird:\n",
    "    IMGS = BIRD_IMGS\n",
    "    MAX_ROTATION = 25       #range upto which the player can tilt the bird\n",
    "    ROT_VEL = 20            #rotation allowed per frame/move\n",
    "    ANIMATION_TIME = 5      #time for which each animation will hold i.e. the rate at which the bird all flap its wings\n",
    "\n",
    "\n",
    "    def __init__(self, x, y):\n",
    "        #starting coordinates for the bird\n",
    "        self.x = x\n",
    "        self.y = y\n",
    "        #starting orientation of the bird\n",
    "        self.tilt = 0               #the bird looks straight towards the right\n",
    "        self.tick_count = 0         #tracks the no. of seconds elapsed since the last move. \n",
    "                                    #will be used for physics calc for the bird\n",
    "        self.vel = 0                #bird is stationary\n",
    "        self.height = self.y\n",
    "        self.img_count = 0          #image currently being rendered\n",
    "        self.img = self.IMGS[0]     \n",
    "\n",
    "    def jump(self):\n",
    "        self.vel = -10.5            #pygame takes the upper-left corner of the diaplay as (0,0)\n",
    "                                    #going left increases x, while going down increases y\n",
    "                                    #therefore, to go up, negative value is required\n",
    "        \n",
    "        self.tick_count = 0         #keeps track of when the last jump occured\n",
    "        self.height = self.y        #height from which the jump was made\n",
    "\n",
    "    def move(self):\n",
    "        self.tick_count += 1        #tracks the no. of moves made since the last jump\n",
    "\n",
    "        #formula defining the arc for the bird when it jumps\n",
    "        #displacement disp is in pixels\n",
    "        disp = self.vel*self.tick_count + 1.5*self.tick_count**2\n",
    "\n",
    "        #setting a limit to the velocity when going downwards and upwards\n",
    "        if disp > 16:\n",
    "            disp = 16\n",
    "        if disp < 0:\n",
    "            disp -= 2\n",
    "\n",
    "        self.y = self.y+disp\n",
    "\n",
    "        if disp < 0 or self.y < self.height + 50:\n",
    "            if self.tilt < self.MAX_ROTATION:\n",
    "                self.tilt = self.MAX_ROTATION   #while the bird is going up, we don't want it to climb up 90 deg\n",
    "        else:\n",
    "            if self.tilt > -90:                 #but while going down, it may look like nose-diving\n",
    "                self.tilt -= self.ROT_VEL\n",
    "\n",
    "    def draw(self, win):\n",
    "        self.img_count += 1\n",
    "\n",
    "        #decides on which image to show based on the image_count \n",
    "        if self.img_count < self.ANIMATION_TIME:\n",
    "            self.img = self.IMGS[0]       \n",
    "        elif self.img_count < self.ANIMATION_TIME*2:\n",
    "            self.img = self.IMGS[1]\n",
    "        elif self.img_count < self.ANIMATION_TIME*3:\n",
    "            self.img = self.IMGS[2]\n",
    "        elif self.img_count < self.ANIMATION_TIME*4:\n",
    "            self.img = self.IMGS[1]\n",
    "        elif self.img_count < self.ANIMATION_TIME*4 + 1:\n",
    "            self.img = self.IMGS[0]\n",
    "            self.img_count = 0\n",
    "\n",
    "        if self.tilt <= -80:\n",
    "            self.img = self.IMGS[1]\n",
    "            self.img_count = self.ANIMATION_TIME*2\n",
    "\n",
    "\n",
    "        #to rotate the image around its center\n",
    "        rotated_image = pygame.transform.rotate(self.img, self.tilt)\n",
    "        new_rect = rotated_image.get_rect(center=self.img.get_rect(topleft=(self.x,self.y)).center)\n",
    "        win.blit(rotated_image, new_rect.topleft)\n",
    "\n",
    "\n",
    "    #function handling collisions with objects\n",
    "    def get_mask(self):\n",
    "        return pygame.mask.from_surface(self.img)\n",
    "\n",
    "        "
   ]
  },
  {
   "cell_type": "code",
   "execution_count": 5,
   "metadata": {},
   "outputs": [],
   "source": [
    "#function to render the display window\n",
    "\n",
    "def draw_window(win, bird):\n",
    "    win.blit(BG_IMG, (0,0))     #blit() just renders the provided surface onto the display\n",
    "    bird.draw(win)\n",
    "    pygame.display.update()"
   ]
  },
  {
   "cell_type": "code",
   "execution_count": 6,
   "metadata": {},
   "outputs": [],
   "source": [
    "def main():\n",
    "    bird = Bird(200, 200)\n",
    "    \n",
    "\n",
    "    #use clock object to set the tick rate i.e no. of frames per sec\n",
    "    #prevents the game from using the system's speed and use this measure of time instead\n",
    "    \n",
    "    clock = pygame.time.Clock()\n",
    "\n",
    "    run = True\n",
    "    #the game loop for the pygame\n",
    "    while run:\n",
    "        clock.tick(FPS)      \n",
    "        for event in pygame.event.get():\n",
    "            if event.type == pygame.QUIT:\n",
    "                run = False\n",
    "        \n",
    "        bird.move()\n",
    "        draw_window(win, bird)\n",
    "\n",
    "    pygame.quit()\n",
    "    quit()\n"
   ]
  },
  {
   "cell_type": "code",
   "execution_count": 7,
   "metadata": {},
   "outputs": [
    {
     "ename": "KeyboardInterrupt",
     "evalue": "",
     "output_type": "error",
     "traceback": [
      "\u001b[1;31m---------------------------------------------------------------------------\u001b[0m",
      "\u001b[1;31mKeyboardInterrupt\u001b[0m                         Traceback (most recent call last)",
      "\u001b[1;32mC:\\Users\\TANISH~1\\AppData\\Local\\Temp/ipykernel_16240/3832242952.py\u001b[0m in \u001b[0;36m<module>\u001b[1;34m\u001b[0m\n\u001b[0;32m      1\u001b[0m \u001b[1;32mif\u001b[0m \u001b[0m__name__\u001b[0m \u001b[1;33m==\u001b[0m \u001b[1;34m\"__main__\"\u001b[0m\u001b[1;33m:\u001b[0m\u001b[1;33m\u001b[0m\u001b[1;33m\u001b[0m\u001b[0m\n\u001b[1;32m----> 2\u001b[1;33m     \u001b[0mmain\u001b[0m\u001b[1;33m(\u001b[0m\u001b[1;33m)\u001b[0m\u001b[1;33m\u001b[0m\u001b[1;33m\u001b[0m\u001b[0m\n\u001b[0m",
      "\u001b[1;32mC:\\Users\\TANISH~1\\AppData\\Local\\Temp/ipykernel_16240/1373942735.py\u001b[0m in \u001b[0;36mmain\u001b[1;34m()\u001b[0m\n\u001b[0;32m     11\u001b[0m     \u001b[1;31m#the game loop for the pygame\u001b[0m\u001b[1;33m\u001b[0m\u001b[1;33m\u001b[0m\u001b[0m\n\u001b[0;32m     12\u001b[0m     \u001b[1;32mwhile\u001b[0m \u001b[0mrun\u001b[0m\u001b[1;33m:\u001b[0m\u001b[1;33m\u001b[0m\u001b[1;33m\u001b[0m\u001b[0m\n\u001b[1;32m---> 13\u001b[1;33m         \u001b[0mclock\u001b[0m\u001b[1;33m.\u001b[0m\u001b[0mtick\u001b[0m\u001b[1;33m(\u001b[0m\u001b[0mFPS\u001b[0m\u001b[1;33m)\u001b[0m\u001b[1;33m\u001b[0m\u001b[1;33m\u001b[0m\u001b[0m\n\u001b[0m\u001b[0;32m     14\u001b[0m         \u001b[1;32mfor\u001b[0m \u001b[0mevent\u001b[0m \u001b[1;32min\u001b[0m \u001b[0mpygame\u001b[0m\u001b[1;33m.\u001b[0m\u001b[0mevent\u001b[0m\u001b[1;33m.\u001b[0m\u001b[0mget\u001b[0m\u001b[1;33m(\u001b[0m\u001b[1;33m)\u001b[0m\u001b[1;33m:\u001b[0m\u001b[1;33m\u001b[0m\u001b[1;33m\u001b[0m\u001b[0m\n\u001b[0;32m     15\u001b[0m             \u001b[1;32mif\u001b[0m \u001b[0mevent\u001b[0m\u001b[1;33m.\u001b[0m\u001b[0mtype\u001b[0m \u001b[1;33m==\u001b[0m \u001b[0mpygame\u001b[0m\u001b[1;33m.\u001b[0m\u001b[0mQUIT\u001b[0m\u001b[1;33m:\u001b[0m\u001b[1;33m\u001b[0m\u001b[1;33m\u001b[0m\u001b[0m\n",
      "\u001b[1;31mKeyboardInterrupt\u001b[0m: "
     ]
    }
   ],
   "source": [
    "if __name__ == \"__main__\":\n",
    "    main()"
   ]
  },
  {
   "cell_type": "code",
   "execution_count": null,
   "metadata": {},
   "outputs": [],
   "source": []
  }
 ],
 "metadata": {
  "interpreter": {
   "hash": "052a824504f1001ace61cb755d6798c9ff986f56de5e3014c813c68279bfdcd9"
  },
  "kernelspec": {
   "display_name": "Python 3.9.9 64-bit",
   "language": "python",
   "name": "python3"
  },
  "language_info": {
   "codemirror_mode": {
    "name": "ipython",
    "version": 3
   },
   "file_extension": ".py",
   "mimetype": "text/x-python",
   "name": "python",
   "nbconvert_exporter": "python",
   "pygments_lexer": "ipython3",
   "version": "3.9.9"
  },
  "orig_nbformat": 4
 },
 "nbformat": 4,
 "nbformat_minor": 2
}
